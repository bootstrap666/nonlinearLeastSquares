{
  "nbformat": 4,
  "nbformat_minor": 0,
  "metadata": {
    "colab": {
      "name": "NLLS.ipynb",
      "provenance": [],
      "authorship_tag": "ABX9TyNbz2+90Ig7vKOSFdjENt8o",
      "include_colab_link": true
    },
    "kernelspec": {
      "name": "python3",
      "display_name": "Python 3"
    },
    "language_info": {
      "name": "python"
    }
  },
  "cells": [
    {
      "cell_type": "markdown",
      "metadata": {
        "id": "view-in-github",
        "colab_type": "text"
      },
      "source": [
        "<a href=\"https://colab.research.google.com/github/bootstrap666/nonlinearLeastSquares/blob/main/NLLS.ipynb\" target=\"_parent\"><img src=\"https://colab.research.google.com/assets/colab-badge.svg\" alt=\"Open In Colab\"/></a>"
      ]
    },
    {
      "cell_type": "markdown",
      "metadata": {
        "id": "VB2U5YICQYV4"
      },
      "source": [
        "Linearize o modelo matemático\n",
        "\n",
        "$$y = \\alpha x e^{\\beta x}$$\n",
        "\n",
        "e encontre os parâmetros $\\alpha$ e $\\beta$ que fornecem o melhor ajuste com base nos seguintes dados\n",
        "\n",
        "\n",
        " $x$ | 0,1 | 0,2 | 0,4 | 0,6 | 0,9 | 1,3 | 1,5 \n",
        "-----|-----|-----|-----|-----|-----|-----|-----\n",
        " $y$ |0,75 |1,25 |1,45 |1,25 |0,85 |0,55 |0,18 \n",
        "\n",
        "\n"
      ]
    },
    {
      "cell_type": "code",
      "metadata": {
        "id": "24I4dwUPQRkb"
      },
      "source": [
        "import numpy as np\n",
        "import matplotlib.pyplot as plt"
      ],
      "execution_count": 34,
      "outputs": []
    },
    {
      "cell_type": "code",
      "metadata": {
        "id": "oPBQVNN8VWKf"
      },
      "source": [
        "x = np.matrix([[0.1], [0.2], [0.4], [0.6], [0.9], [1.3], [1.5], [1.7], [1.8]])\n",
        "y = np.matrix([[0.75], [1.25], [1.45], [1.25], [0.85], [0.55], [0.35], [0.28],[ 0.18]])\n",
        "\n",
        "theta = np.zeros(2)\n",
        "z = np.log(y/x)\n",
        "A = np.matrix([[1,0.1],\n",
        "               [1,0.2],\n",
        "               [1,0.4],\n",
        "               [1,0.6],\n",
        "               [1, 0.9],\n",
        "               [1, 1.3],\n",
        "               [1,1.5],\n",
        "               [1,1.7],\n",
        "               [1,1.8]])              \n",
        "\n",
        "\n",
        "theta = np.linalg.inv(np.transpose(A)*A)*(np.transpose(A)*z)"
      ],
      "execution_count": 40,
      "outputs": []
    },
    {
      "cell_type": "code",
      "metadata": {
        "colab": {
          "base_uri": "https://localhost:8080/",
          "height": 282
        },
        "id": "_JV_wYfmae_P",
        "outputId": "da1d1031-5fd9-4afd-fca6-dd38295b9559"
      },
      "source": [
        "x = np.array([0.1, 0.2, 0.4, 0.6, 0.9, 1.3, 1.5, 1.7, 1.8])\n",
        "y = np.array([0.75, 1.25, 1.45, 1.25, 0.85, 0.55, 0.35, 0.28, 0.18])\n",
        "alpha = np.exp(theta[0])\n",
        "beta = theta[1]\n",
        "\n",
        "plt.stem(x,y,use_line_collection=True)\n",
        "t = np.arange(0.1,1.8,0.01)\n",
        "w = np.multiply((alpha*t),np.exp(beta*t))\n",
        "plt.plot(t,np.transpose(w),'r')"
      ],
      "execution_count": 49,
      "outputs": [
        {
          "output_type": "execute_result",
          "data": {
            "text/plain": [
              "[<matplotlib.lines.Line2D at 0x7f157a488350>]"
            ]
          },
          "metadata": {},
          "execution_count": 49
        },
        {
          "output_type": "display_data",
          "data": {
            "image/png": "[encoded data removed]",
            "text/plain": [
              "<Figure size 432x288 with 1 Axes>"
            ]
          },
          "metadata": {
            "needs_background": "light"
          }
        }
      ]
    }
  ]
}